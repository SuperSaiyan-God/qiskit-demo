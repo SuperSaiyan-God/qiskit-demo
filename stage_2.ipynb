{
 "cells": [
  {
   "cell_type": "code",
   "execution_count": null,
   "metadata": {},
   "outputs": [],
   "source": [
    "from qiskit import QuantumCircuit, QuantumRegister, ClassicalRegister, execute\n",
    "from qiskit import execute, Aer, BasicAer, IBMQ\n",
    "from qiskit.circuit import Gate\n",
    "from qiskit.tools.visualization import plot_histogram\n",
    "from qiskit.providers.aer import QasmSimulator\n",
    "from qiskit.compiler import transpile, assemble\n",
    "from qiskit.tools.jupyter import *\n",
    "from qiskit.visualization import *\n",
    "import numpy as np\n",
    "from matplotlib import pyplot as plt"
   ]
  },
  {
   "cell_type": "code",
   "execution_count": null,
   "metadata": {},
   "outputs": [],
   "source": [
    "q0 = QuantumRegister(5, 'q0')\n",
    "switch = QuantumCircuit(q0, name=\"Switch\")"
   ]
  },
  {
   "cell_type": "code",
   "execution_count": null,
   "metadata": {},
   "outputs": [],
   "source": [
    "switch.reset(q0[4])\n",
    "switch.cx(q0[0],q0[1])\n",
    "switch.ccx(q0[2],q0[1],q0[0])\n",
    "switch.cx(q0[0],q0[1])\n",
    "switch.barrier(q0[1])\n",
    "switch.cx(q0[0],q0[1])\n",
    "switch.ccx(q0[1],q0[2],q0[4])\n",
    "switch.ccx(q0[3],q0[1],q0[0])\n",
    "switch.cx(q0[0],q0[1])\n",
    "switch.cx(q0[4],q0[0])\n",
    "\n",
    "\n",
    "switch.draw(output='mpl')"
   ]
  },
  {
   "cell_type": "code",
   "execution_count": null,
   "metadata": {},
   "outputs": [],
   "source": [
    "q9 = QuantumRegister(5, 'q9')\n",
    "q8 = QuantumRegister(5, 'q8')\n",
    "q7 = QuantumRegister(5, 'q7')\n",
    "q6 = QuantumRegister(5, 'q6')\n",
    "c = ClassicalRegister(8, 'c')\n",
    "\n",
    "a0 = QuantumCircuit(q9,q8,q7,q6,c)"
   ]
  },
  {
   "cell_type": "code",
   "execution_count": null,
   "metadata": {},
   "outputs": [],
   "source": [
    "inp1 = []\n",
    "\n",
    "for i in range(0,8):\n",
    "    inp = input(\"Enter I{}: \".format(i))\n",
    "    inp1.append(inp)\n",
    "    \n",
    "if inp1[0] == \"1\":\n",
    "    a0.x(q9[0])\n",
    "if inp1[1] == \"1\":\n",
    "    a0.x(q8[0])\n",
    "if inp1[2] == \"1\":\n",
    "    a0.x(q9[1])\n",
    "if inp1[3] == \"1\":\n",
    "    a0.x(q8[1])\n",
    "if inp1[4] == \"1\":\n",
    "    a0.x(q7[0])\n",
    "if inp1[5] == \"1\":\n",
    "    a0.x(q6[0])\n",
    "if inp1[6] == \"1\":\n",
    "    a0.x(q7[1])\n",
    "if inp1[7] == \"1\":\n",
    "    a0.x(q6[1])\n",
    "    \n",
    "    \n",
    "inp2  = input(\"Enter C0: \")\n",
    "inp3  = input(\"Enter C1: \")\n",
    "\n",
    "if inp2 == \"1\":\n",
    "    a0.x(q9[2])\n",
    "if inp3 == \"1\":\n",
    "    a0.x(q9[3])\n",
    "if inp2 == \"1\":\n",
    "    a0.x(q8[2])\n",
    "if inp3 == \"1\":\n",
    "    a0.x(q8[3])\n",
    "if inp2 == \"1\":\n",
    "    a0.x(q7[2])\n",
    "if inp3 == \"1\":\n",
    "    a0.x(q7[3])\n",
    "if inp2 == \"1\":\n",
    "    a0.x(q6[2])\n",
    "if inp3 == \"1\":\n",
    "    a0.x(q6[3])"
   ]
  },
  {
   "cell_type": "code",
   "execution_count": null,
   "metadata": {},
   "outputs": [],
   "source": [
    "register = switch.to_instruction()"
   ]
  },
  {
   "cell_type": "code",
   "execution_count": null,
   "metadata": {},
   "outputs": [],
   "source": [
    "a0.append(register, [q9[0],q8[0],q9[2],q9[3],q9[4]])\n",
    "a0.append(register, [q9[1],q8[1],q8[2],q8[3],q8[4]])\n",
    "a0.append(register, [q7[0],q6[0],q7[2],q7[3],q7[4]])\n",
    "a0.append(register, [q7[1],q6[1],q6[2],q6[3],q6[4]])"
   ]
  },
  {
   "cell_type": "code",
   "execution_count": null,
   "metadata": {},
   "outputs": [],
   "source": [
    "a0.draw(output='mpl')"
   ]
  },
  {
   "cell_type": "code",
   "execution_count": null,
   "metadata": {},
   "outputs": [],
   "source": [
    "a0.measure(q9[0],c[0])\n",
    "a0.measure(q8[0],c[1])\n",
    "a0.measure(q9[1],c[2])\n",
    "a0.measure(q8[1],c[3])\n",
    "a0.measure(q7[0],c[4])\n",
    "a0.measure(q6[0],c[5])\n",
    "a0.measure(q7[1],c[6])\n",
    "a0.measure(q6[1],c[7])"
   ]
  },
  {
   "cell_type": "code",
   "execution_count": null,
   "metadata": {},
   "outputs": [],
   "source": [
    "a0.draw(output='mpl')"
   ]
  },
  {
   "cell_type": "code",
   "execution_count": null,
   "metadata": {},
   "outputs": [],
   "source": [
    "simulator = QasmSimulator()"
   ]
  },
  {
   "cell_type": "code",
   "execution_count": null,
   "metadata": {},
   "outputs": [],
   "source": [
    "result = execute(a0, backend=simulator).result()"
   ]
  },
  {
   "cell_type": "code",
   "execution_count": null,
   "metadata": {},
   "outputs": [],
   "source": [
    "plot_histogram(result.get_counts(a0))"
   ]
  },
  {
   "cell_type": "code",
   "execution_count": null,
   "metadata": {},
   "outputs": [],
   "source": []
  }
 ],
 "metadata": {
  "kernelspec": {
   "display_name": "Python 3",
   "language": "python",
   "name": "python3"
  },
  "language_info": {
   "codemirror_mode": {
    "name": "ipython",
    "version": 3
   },
   "file_extension": ".py",
   "mimetype": "text/x-python",
   "name": "python",
   "nbconvert_exporter": "python",
   "pygments_lexer": "ipython3",
   "version": "3.8.5"
  }
 },
 "nbformat": 4,
 "nbformat_minor": 4
}
