{
 "cells": [
  {
   "cell_type": "code",
   "execution_count": 1,
   "metadata": {},
   "outputs": [],
   "source": [
    "from qiskit import QuantumCircuit, QuantumRegister, ClassicalRegister\n",
    "from qiskit import execute, Aer, BasicAer, IBMQ\n",
    "from qiskit.circuit import Gate\n",
    "from qiskit.tools.visualization import plot_histogram\n",
    "from qiskit.compiler import transpile, assemble\n",
    "from qiskit.tools.jupyter import *\n",
    "from qiskit.visualization import *\n",
    "import numpy as np\n",
    "from matplotlib import pyplot as plt"
   ]
  },
  {
   "cell_type": "code",
   "execution_count": 319,
   "metadata": {},
   "outputs": [],
   "source": [
    "q0 = QuantumRegister(5, 'q0')\n",
    "c1 = ClassicalRegister(1, 'c1')\n",
    "c2 = ClassicalRegister(1, 'c2')"
   ]
  },
  {
   "cell_type": "code",
   "execution_count": 320,
   "metadata": {},
   "outputs": [
    {
     "name": "stdout",
     "output_type": "stream",
     "text": [
      "Enter input 1: 1\n",
      "Enter input 2: 0\n",
      "Enter control 1: 0\n",
      "Enter control 2: 1\n"
     ]
    }
   ],
   "source": [
    "switch = QuantumCircuit(q0,c1,c2, name=\"Switch\")\n",
    "\n",
    "inp1 = input(\"Enter input 1: \")\n",
    "inp2 = input(\"Enter input 2: \")\n",
    "inp3 = input(\"Enter control 1: \")\n",
    "inp4 = input(\"Enter control 2: \")\n",
    "\n",
    "if inp1 == \"1\":\n",
    "    switch.x(q0[0])\n",
    "if inp2 == \"1\":\n",
    "    switch.x(q0[1])\n",
    "if inp3 == \"1\":\n",
    "    switch.x(q0[2])\n",
    "if inp4 == \"1\":\n",
    "    switch.x(q0[3])\n",
    "\n"
   ]
  },
  {
   "cell_type": "code",
   "execution_count": 321,
   "metadata": {},
   "outputs": [
    {
     "data": {
      "text/plain": [
       "<qiskit.circuit.instructionset.InstructionSet at 0x7f8a2ae23a00>"
      ]
     },
     "execution_count": 321,
     "metadata": {},
     "output_type": "execute_result"
    }
   ],
   "source": [
    "switch.reset(q0[4])\n",
    "switch.cx(q0[0],q0[1])\n",
    "switch.cx(q0[2],q0[0])\n",
    "switch.cx(q0[0],q0[1])\n",
    "switch.barrier(q0[1])\n",
    "switch.cx(q0[0],q0[1])\n",
    "switch.ccx(q0[2],q0[1],q0[4])\n",
    "switch.cx(q0[3],q0[0])\n",
    "switch.cx(q0[0],q0[1])\n",
    "switch.cx(q0[4],q0[0])\n",
    "switch.measure(q0[0],c1)\n",
    "switch.measure(q0[1],c2)\n"
   ]
  },
  {
   "cell_type": "code",
   "execution_count": 322,
   "metadata": {},
   "outputs": [
    {
     "data": {
      "image/png": "[encoded data removed]",
      "text/plain": [
       "<Figure size 821.978x445.48 with 1 Axes>"
      ]
     },
     "execution_count": 322,
     "metadata": {},
     "output_type": "execute_result"
    }
   ],
   "source": [
    "switch.draw(output='mpl')"
   ]
  },
  {
   "cell_type": "code",
   "execution_count": 323,
   "metadata": {},
   "outputs": [],
   "source": [
    "simulator = Aer.get_backend('qasm_simulator')"
   ]
  },
  {
   "cell_type": "code",
   "execution_count": 324,
   "metadata": {},
   "outputs": [],
   "source": [
    "result = execute(switch, backend=simulator).result()"
   ]
  },
  {
   "cell_type": "code",
   "execution_count": 325,
   "metadata": {},
   "outputs": [
    {
     "data": {
      "image/png": "[encoded data removed]",
      "text/plain": [
       "<Figure size 504x360 with 1 Axes>"
      ]
     },
     "execution_count": 325,
     "metadata": {},
     "output_type": "execute_result"
    }
   ],
   "source": [
    "plot_histogram(result.get_counts(switch))"
   ]
  },
  {
   "cell_type": "code",
   "execution_count": 318,
   "metadata": {},
   "outputs": [
    {
     "data": {
      "text/plain": [
       "Clbit(ClassicalRegister(1, 'c1'), 0)"
      ]
     },
     "execution_count": 318,
     "metadata": {},
     "output_type": "execute_result"
    }
   ],
   "source": [
    "c1[0]"
   ]
  },
  {
   "cell_type": "code",
   "execution_count": 254,
   "metadata": {},
   "outputs": [
    {
     "name": "stdout",
     "output_type": "stream",
     "text": [
      "(<qiskit.circuit.library.standard_gates.x.XGate object at 0x7f8a2a91fbe0>, [Qubit(QuantumRegister(5, 'q0'), 2)], [])\n"
     ]
    }
   ],
   "source": [
    "print(switch[1])"
   ]
  },
  {
   "cell_type": "code",
   "execution_count": null,
   "metadata": {},
   "outputs": [],
   "source": [
    "# qr = QuantumRegister(28, 'q')\n",
    "# circ = QuantumCircuit(qr)"
   ]
  },
  {
   "cell_type": "code",
   "execution_count": null,
   "metadata": {},
   "outputs": [],
   "source": [
    "# circ.append(switch, [qr[0],qr[1],qr[2],qr[3],qr[4]])\n",
    "# circ.append(switch, [qr[7],qr[8],qr[9],qr[10],qr[11]])\n",
    "# circ.append(switch, [qr[14],qr[15],qr[16],qr[17],qr[18]])\n",
    "# circ.append(switch, [qr[21],qr[22],qr[23],qr[24],qr[25]])\n",
    "\n",
    "\n",
    "# circ.draw(output='mpl')"
   ]
  },
  {
   "cell_type": "code",
   "execution_count": null,
   "metadata": {},
   "outputs": [],
   "source": [
    "# circ.append(switch, [qr[0],qr[7],qr[5],qr[6],qr[7]])\n",
    "# circ.append(switch, [qr[1],qr[12],qr[16],qr[17],qr[18]])\n",
    "# circ.append(switch, [qr[22],qr[33],qr[27],qr[28],qr[29]])\n",
    "# circ.append(switch, [qr[23],qr[34],qr[38],qr[39],qr[40]])\n",
    "\n",
    "# circ.draw(output='mpl')"
   ]
  },
  {
   "cell_type": "code",
   "execution_count": null,
   "metadata": {},
   "outputs": [],
   "source": [
    "# circ.append(switch, [qr[0],qr[22],qr[8],qr[9],qr[10]])\n",
    "# circ.append(switch, [qr[11],qr[33],qr[19],qr[20],qr[21]])\n",
    "# circ.append(switch, [qr[1],qr[23],qr[30],qr[31],qr[32]])\n",
    "# circ.append(switch, [qr[12],qr[34],qr[41],qr[42],qr[43]])\n",
    "\n",
    "# circ.draw(output='mpl')"
   ]
  },
  {
   "cell_type": "code",
   "execution_count": null,
   "metadata": {},
   "outputs": [],
   "source": []
  }
 ],
 "metadata": {
  "kernelspec": {
   "display_name": "Python 3",
   "language": "python",
   "name": "python3"
  },
  "language_info": {
   "codemirror_mode": {
    "name": "ipython",
    "version": 3
   },
   "file_extension": ".py",
   "mimetype": "text/x-python",
   "name": "python",
   "nbconvert_exporter": "python",
   "pygments_lexer": "ipython3",
   "version": "3.8.5"
  }
 },
 "nbformat": 4,
 "nbformat_minor": 4
}
